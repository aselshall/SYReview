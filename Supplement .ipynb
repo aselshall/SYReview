{
 "cells": [
  {
   "cell_type": "markdown",
   "metadata": {},
   "source": [
    "# Supplementary Materials"
   ]
  },
  {
   "cell_type": "markdown",
   "metadata": {},
   "source": [
    "#### Read  articles information and save relevant information to csv file \n",
    "A comprehensive search for peer-reviewed studies was performed using Clarivate Analytics Web of Science search engine. We used topic search that searches title, abstract, author keywords, and Keywords Plus.  We first searched database in January 2019 and then reran the whole search in April 2019 to update the records. To directly target the sustainable aquifer yield (SAY) evaluation records we followed this procedure: (1) We searched for the terms (“sustainable yield” or “safe yield”), and filtered the search records with “groundwater” which resulted in 190 records. (2) We identified the relevant records that are directly related to SAY evaluation, which were 107 records. (3) All the articles that cited these 107 records were added to our search results. This resulted in 1346 records after removing duplicates ('exportlist1346.txt'). These records are mainly the safe yield and sustainable yield literature, and the relevant literature around these two topics. (4) To identify sustainable groundwater development and sustainable groundwater management literature, we performed additional search for (“groundwater sustainable”, “groundwater sustainability”, or “sustainable groundwater”) that resulted in 659 records. (5) Combining the records of these four steps resulted in 1927 records after removing the duplicates ('exportlist1771.txt'). (6) Limiting our review period from January 2001 until our search date, resulted in 1727 records ('exportlist1727.txt'). This collection represents the SAY literature and other relevant records around SAY literature, given the search period. "
   ]
  },
  {
   "cell_type": "code",
   "execution_count": 2,
   "metadata": {
    "scrolled": true
   },
   "outputs": [
    {
     "name": "stdout",
     "output_type": "stream",
     "text": [
      "Reading 1771 records from exportlist1771.txt\n",
      "Done saving (1771, 5) matrix with ['Author', 'Year', 'Journal', 'Title', 'Abstract'] to recordsAll.csv\n",
      "Reading 1771 records from recordsAll.csv\n",
      "1727 records saved to recordsFrom2001.csv\n",
      "44  records saved to recordsPre2001.csv\n"
     ]
    }
   ],
   "source": [
    "from SYWorkflow import Read_exportlist\n",
    "Read_exportlist(0)"
   ]
  },
  {
   "cell_type": "markdown",
   "metadata": {},
   "source": [
    "#### Meta-analysis for  quantitative screening stage \n",
    "The objective of this analysis is to identify keywords for filtering out records that are not directly related to groundwater suitability, integrated water resources management, water security, adaptive water management, and groundwater abstraction."
   ]
  },
  {
   "cell_type": "code",
   "execution_count": null,
   "metadata": {},
   "outputs": [],
   "source": [
    "#Keywords related to relevant records\n",
    "topic='RelevantRecords'\n",
    "Keywords=['sustain','sustenance','yield','groundwater capture','overdraft','overdevelopment',\n",
    "          'water quantity', 'deplet','exploit','mining',\n",
    "          'integrated','security','adaptive', 'abstraction', 'withdrawal','pump','recharge',\n",
    "          'groundwater resource','groundwater']\n",
    "\n",
    "#Count relevant records \n",
    "from SYWorkflow import Extract_Records\n",
    "import pandas as pd \n",
    "for n in range(len(Keywords)):\n",
    "    keywords=Keywords[0:n+1]\n",
    "    Count=Extract_Records(topic,keywords,prnt=0,inputfile='recordsFrom2001.csv',outputopition=3)\n",
    "    print('Keywords `{}` to `{}` matching {} out of {} records'\n",
    "          .format(keywords[0],keywords[n],Count[0]+Count[1],Count[2]+Count[3]))\n",
    "display('Number of records containing the following keywords')\n",
    "display(pd.Series({key:Count[4][n] for n, key in enumerate(keywords)}, name='TotalRecords'))"
   ]
  },
  {
   "cell_type": "markdown",
   "metadata": {
    "hide_input": true
   },
   "source": [
    "#### Index records by topic"
   ]
  },
  {
   "cell_type": "markdown",
   "metadata": {},
   "source": [
    "Index records by keywords to filter and count number of records under each topic "
   ]
  },
  {
   "cell_type": "code",
   "execution_count": 2,
   "metadata": {
    "run_control": {
     "marked": true
    }
   },
   "outputs": [
    {
     "data": {
      "text/html": [
       "<div>\n",
       "<style scoped>\n",
       "    .dataframe tbody tr th:only-of-type {\n",
       "        vertical-align: middle;\n",
       "    }\n",
       "\n",
       "    .dataframe tbody tr th {\n",
       "        vertical-align: top;\n",
       "    }\n",
       "\n",
       "    .dataframe thead th {\n",
       "        text-align: right;\n",
       "    }\n",
       "</style>\n",
       "<table border=\"1\" class=\"dataframe\">\n",
       "  <thead>\n",
       "    <tr style=\"text-align: right;\">\n",
       "      <th></th>\n",
       "      <th>MatchingRecords2010</th>\n",
       "      <th>MatchingRecords2020</th>\n",
       "      <th>TotalRecords2010</th>\n",
       "      <th>TotalRecords2020</th>\n",
       "      <th>NormalizedFrequency2010</th>\n",
       "      <th>NormalizedFrequency2020</th>\n",
       "    </tr>\n",
       "  </thead>\n",
       "  <tbody>\n",
       "    <tr>\n",
       "      <th>Sustainable</th>\n",
       "      <td>295</td>\n",
       "      <td>1042</td>\n",
       "      <td>383</td>\n",
       "      <td>1344</td>\n",
       "      <td>0.770235</td>\n",
       "      <td>0.775298</td>\n",
       "    </tr>\n",
       "    <tr>\n",
       "      <th>Groundwater</th>\n",
       "      <td>285</td>\n",
       "      <td>1127</td>\n",
       "      <td>383</td>\n",
       "      <td>1344</td>\n",
       "      <td>0.744125</td>\n",
       "      <td>0.838542</td>\n",
       "    </tr>\n",
       "    <tr>\n",
       "      <th>Policy</th>\n",
       "      <td>60</td>\n",
       "      <td>230</td>\n",
       "      <td>383</td>\n",
       "      <td>1344</td>\n",
       "      <td>0.156658</td>\n",
       "      <td>0.171131</td>\n",
       "    </tr>\n",
       "    <tr>\n",
       "      <th>Modeling</th>\n",
       "      <td>209</td>\n",
       "      <td>820</td>\n",
       "      <td>383</td>\n",
       "      <td>1344</td>\n",
       "      <td>0.545692</td>\n",
       "      <td>0.610119</td>\n",
       "    </tr>\n",
       "    <tr>\n",
       "      <th>Surfacewater</th>\n",
       "      <td>59</td>\n",
       "      <td>198</td>\n",
       "      <td>383</td>\n",
       "      <td>1344</td>\n",
       "      <td>0.154047</td>\n",
       "      <td>0.147321</td>\n",
       "    </tr>\n",
       "    <tr>\n",
       "      <th>Ecosystem</th>\n",
       "      <td>58</td>\n",
       "      <td>177</td>\n",
       "      <td>383</td>\n",
       "      <td>1344</td>\n",
       "      <td>0.151436</td>\n",
       "      <td>0.131696</td>\n",
       "    </tr>\n",
       "    <tr>\n",
       "      <th>HumanActivities</th>\n",
       "      <td>41</td>\n",
       "      <td>221</td>\n",
       "      <td>383</td>\n",
       "      <td>1344</td>\n",
       "      <td>0.107050</td>\n",
       "      <td>0.164435</td>\n",
       "    </tr>\n",
       "    <tr>\n",
       "      <th>Uncertainty</th>\n",
       "      <td>27</td>\n",
       "      <td>156</td>\n",
       "      <td>383</td>\n",
       "      <td>1344</td>\n",
       "      <td>0.070496</td>\n",
       "      <td>0.116071</td>\n",
       "    </tr>\n",
       "    <tr>\n",
       "      <th>Participation</th>\n",
       "      <td>28</td>\n",
       "      <td>145</td>\n",
       "      <td>383</td>\n",
       "      <td>1344</td>\n",
       "      <td>0.073107</td>\n",
       "      <td>0.107887</td>\n",
       "    </tr>\n",
       "    <tr>\n",
       "      <th>Coast</th>\n",
       "      <td>64</td>\n",
       "      <td>259</td>\n",
       "      <td>383</td>\n",
       "      <td>1344</td>\n",
       "      <td>0.167102</td>\n",
       "      <td>0.192708</td>\n",
       "    </tr>\n",
       "  </tbody>\n",
       "</table>\n",
       "</div>"
      ],
      "text/plain": [
       "                 MatchingRecords2010  MatchingRecords2020  TotalRecords2010  \\\n",
       "Sustainable                      295                 1042               383   \n",
       "Groundwater                      285                 1127               383   \n",
       "Policy                            60                  230               383   \n",
       "Modeling                         209                  820               383   \n",
       "Surfacewater                      59                  198               383   \n",
       "Ecosystem                         58                  177               383   \n",
       "HumanActivities                   41                  221               383   \n",
       "Uncertainty                       27                  156               383   \n",
       "Participation                     28                  145               383   \n",
       "Coast                             64                  259               383   \n",
       "\n",
       "                 TotalRecords2020  NormalizedFrequency2010  \\\n",
       "Sustainable                  1344                 0.770235   \n",
       "Groundwater                  1344                 0.744125   \n",
       "Policy                       1344                 0.156658   \n",
       "Modeling                     1344                 0.545692   \n",
       "Surfacewater                 1344                 0.154047   \n",
       "Ecosystem                    1344                 0.151436   \n",
       "HumanActivities              1344                 0.107050   \n",
       "Uncertainty                  1344                 0.070496   \n",
       "Participation                1344                 0.073107   \n",
       "Coast                        1344                 0.167102   \n",
       "\n",
       "                 NormalizedFrequency2020  \n",
       "Sustainable                     0.775298  \n",
       "Groundwater                     0.838542  \n",
       "Policy                          0.171131  \n",
       "Modeling                        0.610119  \n",
       "Surfacewater                    0.147321  \n",
       "Ecosystem                       0.131696  \n",
       "HumanActivities                 0.164435  \n",
       "Uncertainty                     0.116071  \n",
       "Participation                   0.107887  \n",
       "Coast                           0.192708  "
      ]
     },
     "metadata": {},
     "output_type": "display_data"
    }
   ],
   "source": [
    "#Main keywords\n",
    "Sustainable=['sustain','sustenance','yield','groundwater capture','water quantity', 'deplet','exploit',\n",
    "             'integrated','security','adaptive', 'abstraction', 'withdrawal','pump']\n",
    "Groundwater=['groundwater']\n",
    "Policy=['polic','directive','legislat','governance','politics']\n",
    "\n",
    "Modeling=['model','simulat','groundwater management']\n",
    "Surfacewater=['surfacewater']\n",
    "Ecosystem=['ecolog','ecosystem','environmental flow']\n",
    "HumanActivities=['socio','social','societal','human activit','culture','cultural',\n",
    "       'human influence','human interference','human alteration','human induce','human model',\n",
    "       'coupled human','human behav','human adaptation','human action','human system',\n",
    "       'human interaction','human landscape','human values','human dimension']\n",
    "Uncertainty=['uncertain','sensitivityanalysis', 'adaptive management']\n",
    "Participation=['social learning','community engagement','participation','stakeholder','consensus',\n",
    "               'decision making','authorities']\n",
    "\n",
    "Coast=['salinity','island','saltwater','salt-water','salt water','coast']\n",
    "\n",
    "#Additional keywords for filtering by topic \n",
    "#SeaLevelRise=['sea level rise','sea-level','sea level']\n",
    "#Drought=['drought']\n",
    "#Subsidence=['subsidence']\n",
    "\n",
    "Topics=['Sustainable','Groundwater','Policy',\n",
    "        'Modeling','Surfacewater','Ecosystem','HumanActivities','Uncertainty','Participation','Coast'] \n",
    "\n",
    "#Index records by topic \n",
    "from SYWorkflow import Index_Records\n",
    "topics= {topic:globals().get(Topics[n]) for n, topic in enumerate(Topics)}\n",
    "Count=Index_Records(Topics,topics)\n",
    "display(Count)"
   ]
  },
  {
   "cell_type": "markdown",
   "metadata": {},
   "source": [
    "#### Extract a topic given keywords\n",
    "\n",
    "(7) In this step we filter out topics not related to SAY evaluation. we performed text analytics on the titles and abstracts of the identified records. The text analytics method and python code are included as supplement. This resulted in 1185 records. The number of records from 2001 to 2010 and from 2011 to 2019 are 239 and 946 records, respectively. The total number identified records is 1185 records."
   ]
  },
  {
   "cell_type": "code",
   "execution_count": 1,
   "metadata": {
    "scrolled": false
   },
   "outputs": [
    {
     "name": "stdout",
     "output_type": "stream",
     "text": [
      "\u001b[1;31mCollecting records of SAY literature\u001b[0m\n",
      "1337 records after remvoing non Sustainable records\n",
      "1185 records after remvoing non Groundwater records\n",
      "Save do records_Sustainable_Groundwater.csv\n",
      "Period 2010 has 239 of 1185 records about ['Sustainable', 'Groundwater']\n",
      "Period 2020 has 946 of 1185 records about ['Sustainable', 'Groundwater']\n",
      "\n",
      "\u001b[1;31mCollecting and displaying records that have all SAY components\u001b[0m\n",
      "1337 records after remvoing non Sustainable records\n",
      "1185 records after remvoing non Groundwater records\n",
      "227 records after remvoing non Policy records\n",
      "51 records after remvoing non Ecosystem records\n",
      "19 records after remvoing non HumanActivities records\n",
      "4 records after remvoing non Uncertainty records\n",
      "2 records after remvoing non Participation records\n",
      "Save do records_Sustainable_Groundwater_Policy_Ecosystem_HumanActivities_Uncertainty_Participation.csv\n",
      "Period 2010 has 1 of 2 records about ['Sustainable', 'Groundwater', 'Policy', 'Ecosystem', 'HumanActivities', 'Uncertainty', 'Participation']\n",
      "Period 2020 has 1 of 2 records about ['Sustainable', 'Groundwater', 'Policy', 'Ecosystem', 'HumanActivities', 'Uncertainty', 'Participation']\n"
     ]
    },
    {
     "data": {
      "text/html": [
       "<div>\n",
       "<style scoped>\n",
       "    .dataframe tbody tr th:only-of-type {\n",
       "        vertical-align: middle;\n",
       "    }\n",
       "\n",
       "    .dataframe tbody tr th {\n",
       "        vertical-align: top;\n",
       "    }\n",
       "\n",
       "    .dataframe thead th {\n",
       "        text-align: right;\n",
       "    }\n",
       "</style>\n",
       "<table border=\"1\" class=\"dataframe\">\n",
       "  <thead>\n",
       "    <tr style=\"text-align: right;\">\n",
       "      <th></th>\n",
       "      <th>Author</th>\n",
       "      <th>Year</th>\n",
       "      <th>Journal</th>\n",
       "      <th>Title</th>\n",
       "      <th>Abstract</th>\n",
       "      <th>Sustainable</th>\n",
       "      <th>Groundwater</th>\n",
       "      <th>Policy</th>\n",
       "      <th>Modeling</th>\n",
       "      <th>Surfacewater</th>\n",
       "      <th>Ecosystem</th>\n",
       "      <th>HumanActivities</th>\n",
       "      <th>Uncertainty</th>\n",
       "      <th>Participation</th>\n",
       "      <th>Coast</th>\n",
       "    </tr>\n",
       "  </thead>\n",
       "  <tbody>\n",
       "    <tr>\n",
       "      <th>734</th>\n",
       "      <td>Knuppe et al.</td>\n",
       "      <td>2011</td>\n",
       "      <td>Water Sa</td>\n",
       "      <td>the challenges facing sustainable and adaptive...</td>\n",
       "      <td>long term population growth and economic devel...</td>\n",
       "      <td>1</td>\n",
       "      <td>1</td>\n",
       "      <td>1</td>\n",
       "      <td>1</td>\n",
       "      <td>0</td>\n",
       "      <td>1</td>\n",
       "      <td>1</td>\n",
       "      <td>1</td>\n",
       "      <td>1</td>\n",
       "      <td>0</td>\n",
       "    </tr>\n",
       "    <tr>\n",
       "      <th>309</th>\n",
       "      <td>Custodio et al.</td>\n",
       "      <td>2002</td>\n",
       "      <td>Hydrogeology Journal</td>\n",
       "      <td>aquifer overexploitation: what does it mean?</td>\n",
       "      <td>groundwater overexploitation and aquifer overe...</td>\n",
       "      <td>1</td>\n",
       "      <td>1</td>\n",
       "      <td>1</td>\n",
       "      <td>1</td>\n",
       "      <td>0</td>\n",
       "      <td>1</td>\n",
       "      <td>1</td>\n",
       "      <td>1</td>\n",
       "      <td>1</td>\n",
       "      <td>0</td>\n",
       "    </tr>\n",
       "  </tbody>\n",
       "</table>\n",
       "</div>"
      ],
      "text/plain": [
       "              Author  Year               Journal  \\\n",
       "734    Knuppe et al.  2011              Water Sa   \n",
       "309  Custodio et al.  2002  Hydrogeology Journal   \n",
       "\n",
       "                                                 Title  \\\n",
       "734  the challenges facing sustainable and adaptive...   \n",
       "309       aquifer overexploitation: what does it mean?   \n",
       "\n",
       "                                              Abstract  Sustainable  \\\n",
       "734  long term population growth and economic devel...            1   \n",
       "309  groundwater overexploitation and aquifer overe...            1   \n",
       "\n",
       "     Groundwater  Policy  Modeling  Surfacewater  Ecosystem  HumanActivities  \\\n",
       "734            1       1         1             0          1                1   \n",
       "309            1       1         1             0          1                1   \n",
       "\n",
       "     Uncertainty  Participation  Coast  \n",
       "734            1              1      0  \n",
       "309            1              1      0  "
      ]
     },
     "metadata": {},
     "output_type": "display_data"
    }
   ],
   "source": [
    "#You can use this code to include or exclude any of the following topics\n",
    "Topics=['Sustainable','Groundwater','Policy',\n",
    "        'Modeling','Surfacewater','Ecosystem','HumanActivities','Uncertainty','Participation','Coast'] \n",
    "\n",
    "#Import function \n",
    "from SYWorkflow import KeyworkExtract\n",
    "\n",
    "#General opitions\n",
    "Save=1   #Save: [0] No, [1] all records is one file, [2] records per period \n",
    "\n",
    "#Extract topics example 1\n",
    "print('\\x1b[1;31m'+'Collecting records of SAY literature'+'\\x1b[0m')\n",
    "topics=['Sustainable','Groundwater']\n",
    "Flag=[1,1] #Flag [0] and [1] for non-matching and matching records\n",
    "Disp=1  #Display [0] No, [1] number of articles after filtering, [2] records\n",
    "KeyworkExtract(Topics,topics,Flag,Save,Disp)\n",
    "\n",
    "\n",
    "#Extract topics example 2 \n",
    "print('')\n",
    "print('\\x1b[1;31m'+'Collecting and displaying records that have all SAY components'+'\\x1b[0m')\n",
    "topics=['Sustainable','Groundwater','Policy','Ecosystem','HumanActivities','Uncertainty','Participation']\n",
    "Flag=[1,1,1,1,1,1,1] #Flag [0] and [1] for non-matching and matching records\n",
    "Disp=2  #Display [0] No, [1] number of articles after filtering, [2] records\n",
    "KeyworkExtract(Topics,topics,Flag,Save,Disp)"
   ]
  },
  {
   "cell_type": "markdown",
   "metadata": {},
   "source": [
    "#### Articles per year per topic\n"
   ]
  },
  {
   "cell_type": "code",
   "execution_count": 19,
   "metadata": {},
   "outputs": [
    {
     "name": "stdout",
     "output_type": "stream",
     "text": [
      "\u001b[1;31mNumber of records given topic per year from 2001 to 2019\u001b[0m\n"
     ]
    },
    {
     "data": {
      "text/plain": [
       "array([[  5.],\n",
       "       [  9.],\n",
       "       [ 10.],\n",
       "       [ 12.],\n",
       "       [ 32.],\n",
       "       [ 22.],\n",
       "       [ 21.],\n",
       "       [ 31.],\n",
       "       [ 40.],\n",
       "       [ 57.],\n",
       "       [ 63.],\n",
       "       [103.],\n",
       "       [ 87.],\n",
       "       [ 91.],\n",
       "       [107.],\n",
       "       [116.],\n",
       "       [139.],\n",
       "       [196.],\n",
       "       [ 44.]])"
      ]
     },
     "execution_count": 19,
     "metadata": {},
     "output_type": "execute_result"
    }
   ],
   "source": [
    "#Load all articles\n",
    "import pandas as pd \n",
    "import numpy as np\n",
    "\n",
    "# Filenames=['records_Sustainable_Groundwater_Policy.csv', 'records_Sustainable_Groundwater_Surfacewater.csv',\n",
    "#            'records_Sustainable_Groundwater_Ecosystem.csv','records_Sustainable_Groundwater_HumanActivities.csv',\n",
    "#            'records_Sustainable_Groundwater_Uncertainty.csv','records_Sustainable_Groundwater_Participation.csv',\n",
    "#            'records_Sustainable_Groundwater_Surfacewater_Ecosystem_Modeling.csv',\n",
    "#            'records_Sustainable_Groundwater_Surfacewater_HumanActivities_Modeling.csv',\n",
    "#            'records_Sustainable_Groundwater_Ecosystem_HumanActivities_Modeling.csv']\n",
    "print('\\x1b[1;31m'+'Number of records given topic per year from 2001 to 2019'+'\\x1b[0m')\n",
    "Filenames=['records_Sustainable_Groundwater.csv']\n",
    "Years=list(range(2001, 2020))\n",
    "Matrix = np.zeros((len(Years),len(Filenames)))\n",
    "    \n",
    "for m,filename in enumerate(Filenames):\n",
    "    records=pd.read_csv(filename).fillna('NONE')\n",
    "    arr1= np.array(records.loc[:,'Year'])\n",
    "    for n,Year in enumerate(Years):\n",
    "        cont=sum(arr1==Year)\n",
    "        Matrix[n,m]=cont\n",
    "Matrix"
   ]
  },
  {
   "cell_type": "code",
   "execution_count": null,
   "metadata": {},
   "outputs": [],
   "source": []
  }
 ],
 "metadata": {
  "hide_input": false,
  "kernelspec": {
   "display_name": "Python 3",
   "language": "python",
   "name": "python3"
  },
  "language_info": {
   "codemirror_mode": {
    "name": "ipython",
    "version": 3
   },
   "file_extension": ".py",
   "mimetype": "text/x-python",
   "name": "python",
   "nbconvert_exporter": "python",
   "pygments_lexer": "ipython3",
   "version": "3.7.3"
  }
 },
 "nbformat": 4,
 "nbformat_minor": 2
}
